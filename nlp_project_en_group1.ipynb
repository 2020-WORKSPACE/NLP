{
 "cells": [
  {
   "cell_type": "markdown",
   "metadata": {},
   "source": [
    "# 개요, 텍스트 파일 읽기\n",
    "\n",
    "Friends 대화 내용 데이터는 JSON 파일로 제공된다.\n",
    "\n",
    "다음 속성에 따라 JSON 파일을 파싱하고, 텍스트와 코드의 쌍으로 생성한다.\n",
    "\n",
    "|    항목    |     설명    |\n",
    "|:----------:|:-----------:|\n",
    "|   speaker  | 발화의 주체 |\n",
    "|  utterance | 대화 텍스트 |\n",
    "|   emotion  |     감정    |\n",
    "| annotation |  일련 번호  |\n",
    "\n",
    "|   감정  | 코드 |     감정    | 코드 |\n",
    "|:-------:|:----:|:-----------:|:----:|\n",
    "| neutral |   0  |    anger    |   4  |\n",
    "|   joy   |   1  |   surprise  |   5  |\n",
    "| sadness |   2  |   disgust   |   6  |\n",
    "|   fear  |   3  | non-neutral |   7  |"
   ]
  },
  {
   "cell_type": "code",
   "execution_count": 52,
   "metadata": {},
   "outputs": [],
   "source": [
    "import json\n",
    "import os\n",
    "import nltk\n",
    "import numpy as np\n",
    "import matplotlib.pyplot as plt\n",
    "%matplotlib inline\n",
    "from nltk.tokenize import word_tokenize\n",
    "from nltk.tag import pos_tag"
   ]
  },
  {
   "cell_type": "code",
   "execution_count": 43,
   "metadata": {},
   "outputs": [],
   "source": [
    "emoDict = {'neutral': 0, 'joy': 1, 'sadness': 2, 'fear': 3, 'anger': 4, \n",
    "           'surprise': 5, 'disgust': 6, 'non-neutral': 7}"
   ]
  },
  {
   "cell_type": "code",
   "execution_count": 46,
   "metadata": {},
   "outputs": [],
   "source": [
    "def read_json(file):\n",
    "    with open(file) as json_file:\n",
    "        data = [(dialog['utterance'].replace('\\x92', \"'\").replace('\\x91', \"'\"), emoDict[dialog['emotion']]) \n",
    "                for dialogs in json.load(json_file) for dialog in dialogs]\n",
    "    return data"
   ]
  },
  {
   "cell_type": "code",
   "execution_count": 47,
   "metadata": {},
   "outputs": [],
   "source": [
    "train_data = read_json('friends_train.json')\n",
    "test_data = read_json('friends_test.json')"
   ]
  },
  {
   "cell_type": "code",
   "execution_count": 48,
   "metadata": {},
   "outputs": [
    {
     "name": "stdout",
     "output_type": "stream",
     "text": [
      "10561\n",
      "2\n"
     ]
    }
   ],
   "source": [
    "print(len(train_data))\n",
    "print(len(train_data[0]))"
   ]
  },
  {
   "cell_type": "code",
   "execution_count": 49,
   "metadata": {
    "scrolled": true
   },
   "outputs": [
    {
     "name": "stdout",
     "output_type": "stream",
     "text": [
      "2764\n",
      "2\n"
     ]
    }
   ],
   "source": [
    "print(len(test_data))\n",
    "print(len(test_data[0]))"
   ]
  },
  {
   "cell_type": "markdown",
   "metadata": {},
   "source": [
    "# 형태소 분석 및 품사 태깅\n",
    "\n",
    "문장 단위의 데이터를 단어 단위로 분석하고, 불용어를 제거하기 위해서는 전처리 과정이 필요하다.\n",
    "\n",
    "NLTK 라이브러리를 이용하여 이 작업을 수행할 수 있다."
   ]
  },
  {
   "cell_type": "code",
   "execution_count": 55,
   "metadata": {},
   "outputs": [
    {
     "name": "stdout",
     "output_type": "stream",
     "text": [
      "[('I', 'PRP'), (\"'m\", 'VBP'), ('on', 'IN'), ('the', 'DT'), ('edge', 'NN'), ('of', 'IN'), ('glory', 'NN'), ('.', '.')]\n"
     ]
    }
   ],
   "source": [
    "print(pos_tag(word_tokenize(u\"I'm on the edge of glory.\")))"
   ]
  },
  {
   "cell_type": "code",
   "execution_count": 56,
   "metadata": {},
   "outputs": [],
   "source": [
    "def tokenize(doc):\n",
    "    return ['/'.join(t) for t in pos_tag(word_tokenize(doc))]"
   ]
  },
  {
   "cell_type": "markdown",
   "metadata": {},
   "source": [
    "## 학습 데이터 형태소 분석 및 품사 태깅"
   ]
  },
  {
   "cell_type": "code",
   "execution_count": 57,
   "metadata": {},
   "outputs": [],
   "source": [
    "if os.path.isfile('train_docs_en.json'):\n",
    "    with open('train_docs_en.json') as f_read:\n",
    "        train_docs = json.load(f_read)\n",
    "else:\n",
    "    train_docs = [(tokenize(row[0]), row[1]) for row in train_data]\n",
    "    with open('train_docs_en.json', 'w', encoding='utf-8') as f_write:\n",
    "        json.dump(train_docs, f_write, ensure_ascii=False, indent='\\t')"
   ]
  },
  {
   "cell_type": "markdown",
   "metadata": {},
   "source": [
    "## 테스트 데이터 형태소 분석 및 품사 태깅"
   ]
  },
  {
   "cell_type": "code",
   "execution_count": 58,
   "metadata": {},
   "outputs": [],
   "source": [
    "if os.path.isfile('test_docs_en.json'):\n",
    "    with open('test_docs_en.json') as f_read:\n",
    "        test_docs = json.load(f_read)\n",
    "else:\n",
    "    test_docs = [(tokenize(row[0]), row[1]) for row in test_data]\n",
    "    with open('test_docs_en.json', 'w', encoding='utf-8') as f_write:\n",
    "        json.dump(test_docs, f_write, ensure_ascii=False, indent='\\t')"
   ]
  },
  {
   "cell_type": "code",
   "execution_count": 59,
   "metadata": {},
   "outputs": [
    {
     "name": "stdout",
     "output_type": "stream",
     "text": [
      "[(['also/RB', 'I/PRP', 'was/VBD', 'the/DT', 'point/NN', 'person/NN', 'on/IN', 'my/PRP$', 'company/NN', \"'s/POS\", 'transition/NN', 'from/IN', 'the/DT', 'KL-5/NNP', 'to/TO', 'GR-6/NNP', 'system/NN', './.'], 0), (['You/PRP', 'must/MD', \"'ve/VBP\", 'had/VB', 'your/PRP$', 'hands/NNS', 'full/JJ', './.'], 0), (['That/DT', 'I/PRP', 'did/VBD', './.', 'That/IN', 'I/PRP', 'did/VBD', './.'], 0), (['So/RB', 'let/VB', \"'s/PRP\", 'talk/VB', 'a/DT', 'little/JJ', 'bit/NN', 'about/IN', 'your/PRP$', 'duties/NNS', './.'], 0), (['My/PRP$', 'duties/NNS', '?/.', 'All/DT', 'right/NN', './.'], 5), (['Now/RB', 'you/PRP', \"'ll/MD\", 'be/VB', 'heading/VBG', 'a/DT', 'whole/JJ', 'division/NN', ',/,', 'so/IN', 'you/PRP', \"'ll/MD\", 'have/VB', 'a/DT', 'lot/NN', 'of/IN', 'duties/NNS', './.'], 0), (['I/PRP', 'see/VBP', './.'], 0), (['But/CC', 'there/EX', \"'ll/MD\", 'be/VB', 'perhaps/RB', '30/CD', 'people/NNS', 'under/IN', 'you/PRP', 'so/IN', 'you/PRP', 'can/MD', 'dump/VB', 'a/DT', 'certain/JJ', 'amount/NN', 'on/IN', 'them/PRP', './.'], 0), (['Good/JJ', 'to/TO', 'know/VB', './.'], 0), (['We/PRP', 'can/MD', 'go/VB', 'into/IN', 'detail/NN'], 0), (['No/DT', 'do/VBP', \"n't/RB\", 'I/PRP', 'beg/VB', 'of/IN', 'you/PRP', '!/.'], 3), (['All/DT', 'right/JJ', 'then/RB', ',/,', 'we/PRP', \"'ll/MD\", 'have/VB', 'a/DT', 'definite/JJ', 'answer/NN', 'for/IN', 'you/PRP', 'on/IN', 'Monday/NNP', ',/,', 'but/CC', 'I/PRP', 'think/VBP', 'I/PRP', 'can/MD', 'say/VB', 'with/IN', 'some/DT', 'confidence/NN', ',/,', 'you/PRP', \"'ll/MD\", 'fit/VB', 'in/IN', 'well/RB', 'here/RB', './.'], 0), (['Really/RB', '?/.', '!/.'], 5), (['Absolutely/RB', './.', 'You/PRP', 'can/MD', 'relax/VB', ';/:', 'you/PRP', 'did/VBD', 'great/JJ', './.'], 0), (['But/CC', 'then/RB', 'who/WP', '?/.', 'The/DT', 'waitress/NN', 'I/PRP', 'went/VBD', 'out/RP', 'with/IN', 'last/JJ', 'month/NN', '?/.'], 5), (['You/PRP', 'know/VBP', '?/.', 'Forget/VB', 'it/PRP', '!/.'], 7), (['No-no-no-no/NNP', ',/,', 'no/DT', '!/.', 'Who/WP', ',/,', 'who/WP', 'were/VBD', 'you/PRP', 'talking/VBG', 'about/IN', '?/.'], 5), (['No/DT', ',/,', 'I-I-I-I/NNP', 'do/VBP', \"n't/RB\", ',/,', 'I/PRP', 'actually/RB', 'do/VBP', \"n't/RB\", 'know/VB'], 7), (['Ok/NN', '!/.'], 0), (['All/DT', 'right/NN', ',/,', 'well/RB', '.../:'], 0), (['I/PRP', \"'m/VBP\", 'gon/VBG', 'na/TO', 'see/VB', 'if/IN', 'I/PRP', 'can/MD', 'get/VB', 'a/DT', 'room/NN', 'for/IN', 'the/DT', 'night/NN', 'and/CC', 'I/PRP', \"'ll/MD\", '.../:'], 7), (['I/PRP', \"'ll/MD\", 'see/VB', 'you/PRP', 'later/RB', '!/.'], 7), (['Yeah/UH', ',/,', 'sure/JJ', '!/.'], 0), (['Hey/NNP', ',/,', 'Mon/NNP', './.'], 0), (['Hey-hey-hey/NNP', './.', 'You/PRP', 'wan/VBP', 'na/TO', 'hear/VB', 'something/NN', 'that/IN', 'sucks/NNS', './.'], 0), (['Do/VBP', 'I/PRP', 'ever/RB', './.'], 1), (['Chris/NNP', 'says/VBZ', 'they/PRP', \"'re/VBP\", 'closing/VBG', 'down/RP', 'the/DT', 'bar/NN', './.'], 2), (['No/DT', 'way/NN', '!/.'], 5), (['Yeah/UH', ',/,', 'apparently/RB', 'they/PRP', \"'re/VBP\", 'turning/VBG', 'it/PRP', 'into/IN', 'some/DT', 'kinda/NNS', 'coffee/JJ', 'place/NN', './.'], 0), (['Just/RB', 'coffee/NN', '!/.', 'Where/WRB', 'are/VBP', 'we/PRP', 'gon/VB', 'na/TO', 'hang/VB', 'out/RP', 'now/RB', '?/.'], 7), (['Got/NNP', 'me/PRP', './.'], 2), (['Can/MD', 'I/PRP', 'get/VB', 'a/DT', 'beer/NN', './.'], 0), (['Hey/NNP', ',/,', 'did/VBD', 'you/PRP', 'pick/VB', 'a/DT', 'roommate/NN', '?/.'], 0), (['You/PRP', 'betcha/VBP', '!/.'], 1), (['Is/VBZ', 'it/PRP', 'the/DT', 'Italian/JJ', 'guy/NN', '?/.'], 0), (['Um-mm/NNP', ',/,', 'yeah/RB', 'right/JJ', '!/.'], 7), (['Oh/UH', 'my/PRP$', 'God/NNP', ',/,', 'oh/UH', 'my/PRP$', 'God/NNP', '!/.', 'Poor/NNP', 'Monica/NNP', '!/.'], 5), (['What/WP', ',/,', 'what/WP', ',/,', 'what/WP', '?/.', '!/.'], 5), (['What/WP', '?/.', '!/.'], 5), (['He/PRP', 'was/VBD', 'with/IN', 'her/PRP$', 'when/WRB', 'he/PRP', 'wrote/VBD', 'this/DT', 'poem/NN', './.'], 0), (['Look/NNP', ',/,', \"'My/NNP\", 'vessel/NNP', 'so/IN', 'empty/JJ', 'with/IN', 'nothing/NN', 'inside/NN', './.'], 0), (['Now/RB', 'that/IN', 'I/PRP', \"'ve/VBP\", 'touched/VBN', 'you/PRP', ',/,', 'you/PRP', 'seem/VBP', 'emptier/JJR', 'still/RB', './.', \"'/''\"], 0), (['He/PRP', 'thinks/VBZ', 'Monica/NNP', 'is/VBZ', 'empty/JJ', ',/,', 'she/PRP', 'is/VBZ', 'the/DT', 'empty/JJ', 'vase/NN', '!/.'], 5), (['You/PRP', 'really/RB', 'think/VBP', 'that/DT', 'is/VBZ', 'what/WP', 'he/PRP', 'meant/VBD', '?/.'], 7), (['Oh/UH', ',/,', 'totally/RB', './.', 'Oh/UH', ',/,', 'God/NNP', ',/,', 'oh/UH', ',/,', 'she/PRP', 'seemed/VBD', 'so/RB', 'happy/JJ', 'too/RB', './.'], 2), (['Done/NN', './.'], 0), (['Hey/NN', '!/.'], 7), (['Hi/NN', '!/.'], 7), (['What/WP', 'are/VBP', 'you/PRP', 'doing/VBG', 'here/RB', '?/.'], 5), (['Ah/NNP', \"y'know/PRP\", ',/,', 'this/DT', 'building/NN', 'is/VBZ', 'on/IN', 'my/PRP$', 'paper/NN', 'route/NN', 'so/RB', 'I/PRP', '.../:'], 0)]\n"
     ]
    }
   ],
   "source": [
    "print(train_docs[:50])"
   ]
  },
  {
   "cell_type": "code",
   "execution_count": 60,
   "metadata": {},
   "outputs": [
    {
     "name": "stdout",
     "output_type": "stream",
     "text": [
      "[(['Why/WRB', 'do/VBP', 'all/DT', 'you/PRP', \"'re/VBP\", 'coffee/JJ', 'mugs/NNS', 'have/VBP', 'numbers/NNS', 'on/IN', 'the/DT', 'bottom/NN', '?/.'], 5), (['Oh/UH', './.', 'That/DT', \"'s/VBZ\", 'so/RB', 'Monica/NNP', 'can/MD', 'keep/VB', 'track/NN', './.', 'That/DT', 'way/NN', 'if/IN', 'one/CD', 'on/IN', 'them/PRP', 'is/VBZ', 'missing/VBG', ',/,', 'she/PRP', 'can/MD', 'be/VB', 'like/IN', ',/,', \"'Where/EX\", \"'s/VBZ\", 'number/NN', '27/CD', '?/.', '!/.', \"'/''\"], 7), ([\"Y'know/VB\", 'what/WP', '?/.'], 0), (['It/PRP', 'did/VBD', \"n't/RB\", './.'], 0), (['Okay/NNP', ',/,', 'so/IN', 'what/WP', 'you/PRP', 'used/VBD', 'to/TO', 'have/VB', 'with/IN', 'Rachel/NNP', ',/,', 'is/VBZ', 'what/WP', 'I/PRP', \"'ve/VBP\", 'got/VBN', 'with/IN', 'Alice/NNP', './.'], 1), (['Now/RB', ',/,', 'wh-what/WP', ',/,', 'what/WP', 'is/VBZ', 'that/DT', 'like/IN', '?/.'], 5), (['It/PRP', \"'s/VBZ\", 'so/RB', 'cool/JJ', 'man/NN', ',/,', 'it/PRP', \"'s/VBZ\", 'so/RB', ',/,', 'it/PRP', \"'s/VBZ\", 'just/RB', \"'cause/CD\", 'being/VBG', 'with/IN', 'her/PRP', 'is/VBZ', 'so/RB', 'much/JJ', 'better/JJR', 'than/IN', 'like/IN', 'not/RB', 'being/VBG', 'with/IN', 'her/PRP', './.'], 1), (['Yeah/UH', ',/,', 'yeah/UH', './.'], 0), (['Why/WRB', 'ca/MD', \"n't/RB\", 'I/PRP', 'find/VBP', 'that/IN', '?/.'], 7), (['Do/VBP', \"n't/RB\", 'ask/VB', 'me/PRP', ',/,', 'I/PRP', 'had/VBD', 'it/PRP', 'and/CC', 'I/PRP', 'blew/VBD', 'it/PRP', '!/.'], 4), (['Well/RB', ',/,', 'I/PRP', 'want/VBP', 'it/PRP', '!/.'], 7), (['You/PRP', 'can/MD', 'have/VB', 'it/PRP', '!/.'], 7), (['I/PRP', 'do/VBP', \"n't/RB\", 'know/VB', ',/,', 'maybe/RB', 'I/PRP', 'ca/MD', \"n't/RB\", './.', 'I/PRP', 'mean/VBP', ',/,', 'maybe/RB', 'there/EX', \"'s/VBZ\", 'something/NN', 'wrong/JJ', 'with/IN', 'me/PRP', './.'], 7), (['Oh/UH', ',/,', 'no/DT', '!/.', 'No/UH', '!/.'], 7), (['It/PRP', \"'s/VBZ\", 'out/RP', 'there/RB', 'man/NN', '!/.', 'I/PRP', \"'ve/VBP\", 'seen/VBN', 'it/PRP', '!/.', 'I/PRP', 'got/VBD', 'it/PRP', '!/.', '!/.'], 1), (['Then/RB', 'you/PRP', 'hold/VBP', 'on/IN', 'to/TO', 'it/PRP', '!/.', '!/.'], 7), (['All/DT', 'right/NN', ',/,', 'man/NN', '!/.', '!/.'], 1), (['All/DT', 'right/NN', ',/,', 'congratulations/NNS', 'you/PRP', 'lucky/VBP', 'bastard/RB', '!/.'], 1), (['Come/NNP', 'on/IN', ',/,', 'Lydia/NNP', ',/,', 'you/PRP', 'can/MD', 'do/VB', 'it/PRP', './.'], 0), (['Push/NN', '!/.'], 1), (['Push/NNP', \"'em/PRP\", 'out/RP', ',/,', 'push/NN', \"'em/PRP\", 'out/RP', ',/,', 'harder/JJR', ',/,', 'harder/RBR', './.'], 1), (['Push/NNP', \"'em/PRP\", 'out/RP', ',/,', 'push/NN', \"'em/PRP\", 'out/RP', ',/,', 'way/NN', 'out/RP', '!/.'], 1), (['Let/VB', \"'s/POS\", 'get/VB', 'that/IN', 'ball/NN', 'and/CC', 'really/RB', 'move/VB', ',/,', 'hey/NN', ',/,', 'hey/NN', ',/,', 'ho/NN', ',/,', 'ho/NN', './.'], 1), ([\"Let's\\x97/NNP\", 'I/PRP', 'was/VBD', 'just\\x97yeah/NN', ',/,', 'right/RB', './.'], 1), (['Push/NN', '!/.'], 1), (['Push/NN', '!/.'], 1), (['Okay/NNP', './.'], 0), (['Ross/NNP', ',/,', 'did/VBD', \"n't/RB\", 'you/PRP', 'say/VBP', 'that/IN', 'there/EX', 'was/VBD', 'an/DT', 'elevator/NN', 'in/IN', 'here/RB', '?/.'], 0), (['Uhh/NNP', ',/,', 'yes/UH', 'I/PRP', 'did/VBD', 'but/CC', 'there/EX', 'is/VBZ', \"n't/RB\", './.', 'Okay/VB', ',/,', 'here/RB', 'we/PRP', 'go/VBP', './.'], 7), (['Okay/NNP', ',/,', 'go/VB', 'left/RB', './.', 'Left/VBN', '!/.', 'Left/UH', '!/.'], 5), (['Okay/NNP', ',/,', \"y'know/VB\", 'what/WP', '?/.', 'There/EX', 'is/VBZ', 'no/DT', 'more/RBR', 'left/JJ', ',/,', 'left/VBD', '!/.'], 4), (['Oh/UH', 'okay/NN', ',/,', 'lift/VB', 'it/PRP', 'straight/VBD', 'up/RP', 'over/IN', 'your/PRP$', 'head/NN', '!/.'], 7), (['Straight/NNP', 'up/RP', 'over/IN', 'your/PRP$', 'head/NN', '!/.'], 7), (['You/PRP', 'can/MD', 'do/VB', 'it/PRP', '!/.'], 1), (['You/PRP', 'can/MD', 'do/VB', 'it/PRP', '!/.'], 1), (['Okay/NNP', './.'], 0), (['You/PRP', 'got/VBD', 'it/PRP', '?/.'], 0), (['Oh/UH', ',/,', 'okay/JJ', ',/,', 'I/PRP', 'get/VBP', 'it/PRP', './.'], 0), (['No/DT', 'wait/NN', ',/,', 'look/NN', './.', 'Look/VB', '!/.', 'I/PRP', \"'m/VBP\", 'sorry/JJ', ',/,', 'it/PRP', \"'s/VBZ\", 'just/RB', 'I/PRP', \"'ve/VBP\", 'never/RB', 'even/RB'], 3), (['Howard/NNP', \"'s/POS\", 'the/DT'], 0), (['Yes/UH', 'but/CC', 'too/RB', 'me/PRP', 'he/PRP', \"'s/VBZ\", 'just/RB', ',/,', 'man/NN', './.'], 0), (['Okay/NNP', ',/,', 'fine/NN', ',/,', 'whatever/WDT', './.', 'Welcome/VB', 'to/TO', 'the/DT', 'building/NN', './.'], 7), (['Ugh/NNP', ',/,', 'can/MD', 'you/PRP', 'believe/VB', 'that/IN', 'guy/NN', '!/.'], 6), (['Yeah/UH', './.', 'I/PRP', 'really/RB', 'like/IN', 'his/PRP$', 'glasses/NNS', './.'], 0), (['Ohh/NN', '!/.'], 5), (['What/WP', '?/.'], 0), (['It/PRP', 'kicked/VBD', '!/.', 'I/PRP', 'think/VBP', 'the/DT', 'baby/NN', 'kicked/VBD', '!/.'], 5), (['Oh/UH', 'my/PRP$', 'God/NN', '!/.'], 5), (['Oh/UH', 'no/DT', 'wait/NN', ',/,', 'oh/UH', 'no/DT', ',/,', 'the/DT', 'elastic/NN', 'on/IN', 'my/PRP$', 'underwear/JJ', 'busted/VBN', './.'], 0), (['Oh/UH', 'my/PRP$', 'God/NNP', '!/.', 'I/PRP', 'overslept/VBP', '!/.', 'I/PRP', 'was/VBD', 'supposed/VBN', 'to/TO', 'be/VB', 'on/IN', 'the/DT', 'set/NN', 'a/DT', 'half/PDT', 'an/DT', 'hour/NN', 'ago/IN', '!/.', 'I/PRP', 'got/VBD', 'ta/RB', 'get/VB', 'out/IN', 'of/IN', 'here/RB', '!/.'], 3)]\n"
     ]
    }
   ],
   "source": [
    "print(test_docs[:50])"
   ]
  },
  {
   "cell_type": "markdown",
   "metadata": {},
   "source": [
    "# 토큰화\n",
    "\n",
    "문자열 분석을 위해 토큰 단위로 쪼개어서 NLTK 라이브러리를 통한 전처리를 수행한다.\n",
    "\n",
    "구체적으로는 토큰의 수, 중복 제외한 토큰의 수, 빈도 상위 10개 토큰, 빈도 상위 50개 토큰 시각화를 수행한다."
   ]
  },
  {
   "cell_type": "code",
   "execution_count": 61,
   "metadata": {},
   "outputs": [
    {
     "name": "stdout",
     "output_type": "stream",
     "text": [
      "110779\n"
     ]
    }
   ],
   "source": [
    "tokens = [t for d in train_docs for t in d[0]]\n",
    "print(len(tokens))"
   ]
  },
  {
   "cell_type": "code",
   "execution_count": 62,
   "metadata": {},
   "outputs": [
    {
     "name": "stdout",
     "output_type": "stream",
     "text": [
      "8570\n"
     ]
    }
   ],
   "source": [
    "text = nltk.Text(tokens, name='FRIENDS')\n",
    "print(len(set(text.tokens)))"
   ]
  },
  {
   "cell_type": "code",
   "execution_count": 63,
   "metadata": {},
   "outputs": [
    {
     "name": "stdout",
     "output_type": "stream",
     "text": [
      "[(',/,', 7472), ('./.', 6819), ('!/.', 4539), ('I/PRP', 4263), ('you/PRP', 3011), ('?/.', 3010), ('the/DT', 1794), ('to/TO', 1655), ('a/DT', 1573), (\"'s/VBZ\", 1453)]\n"
     ]
    }
   ],
   "source": [
    "print(text.vocab().most_common(10))"
   ]
  },
  {
   "cell_type": "code",
   "execution_count": 64,
   "metadata": {},
   "outputs": [
    {
     "data": {
      "image/png": "[encoded data removed]",
      "text/plain": [
       "<Figure size 1440x720 with 1 Axes>"
      ]
     },
     "metadata": {
      "needs_background": "light"
     },
     "output_type": "display_data"
    }
   ],
   "source": [
    "plt.figure(figsize=(20,10))\n",
    "text.plot(20)"
   ]
  },
  {
   "cell_type": "markdown",
   "metadata": {},
   "source": [
    "# 벡터화\n",
    "\n",
    "자주 사용하는 토큰 10000개를 사용해서 데이터를 벡터로 표현한다.\n",
    "\n",
    "BOW (Bag of Words) 방식으로 구현하며, CountVectorization을 사용한다.\n",
    "\n",
    "마지막으로 numpy를 이용해 float으로 형 변환 작업을 수행하여 저장한다."
   ]
  },
  {
   "cell_type": "code",
   "execution_count": 65,
   "metadata": {},
   "outputs": [],
   "source": [
    "selected_words = [f[0] for f in text.vocab().most_common(5000)]\n",
    "\n",
    "def term_frequency(doc):\n",
    "    return [doc.count(word) for word in selected_words]"
   ]
  },
  {
   "cell_type": "code",
   "execution_count": 66,
   "metadata": {},
   "outputs": [],
   "source": [
    "train_x = [term_frequency(d) for d, _ in train_docs]\n",
    "test_x = [term_frequency(d) for d, _ in test_docs]\n",
    "train_y = [c for _, c in train_docs]\n",
    "test_y = [c for _, c in test_docs]"
   ]
  },
  {
   "cell_type": "code",
   "execution_count": 68,
   "metadata": {},
   "outputs": [],
   "source": [
    "x_train = np.asarray(train_x).astype('float32')\n",
    "x_test = np.asarray(test_x).astype('float32')\n",
    "\n",
    "np.save('x_train_en', x_train)\n",
    "np.save('x_test_en', x_test)\n",
    "\n",
    "y_train = np.asarray(train_y).astype('float32')\n",
    "y_test = np.asarray(test_y).astype('float32')\n",
    "\n",
    "np.save('y_train_en', y_train)\n",
    "np.save('y_test_en', y_test)"
   ]
  },
  {
   "cell_type": "code",
   "execution_count": 69,
   "metadata": {},
   "outputs": [
    {
     "name": "stdout",
     "output_type": "stream",
     "text": [
      "[[0. 1. 0. ... 0. 0. 0.]\n",
      " [0. 1. 0. ... 0. 0. 0.]\n",
      " [0. 2. 0. ... 0. 0. 0.]\n",
      " ...\n",
      " [1. 0. 0. ... 0. 0. 0.]\n",
      " [0. 1. 0. ... 0. 0. 0.]\n",
      " [2. 2. 0. ... 0. 0. 0.]]\n"
     ]
    }
   ],
   "source": [
    "print(x_train)"
   ]
  },
  {
   "cell_type": "code",
   "execution_count": 70,
   "metadata": {},
   "outputs": [
    {
     "name": "stdout",
     "output_type": "stream",
     "text": [
      "[[0. 0. 0. ... 0. 0. 0.]\n",
      " [2. 2. 1. ... 0. 0. 0.]\n",
      " [0. 0. 0. ... 0. 0. 0.]\n",
      " ...\n",
      " [1. 1. 1. ... 0. 0. 0.]\n",
      " [0. 0. 0. ... 0. 0. 0.]\n",
      " [2. 2. 0. ... 0. 0. 0.]]\n"
     ]
    }
   ],
   "source": [
    "print(x_test)"
   ]
  },
  {
   "cell_type": "code",
   "execution_count": 71,
   "metadata": {},
   "outputs": [
    {
     "name": "stdout",
     "output_type": "stream",
     "text": [
      "[0. 0. 0. ... 5. 0. 7.]\n"
     ]
    }
   ],
   "source": [
    "print(y_train)"
   ]
  },
  {
   "cell_type": "code",
   "execution_count": 72,
   "metadata": {},
   "outputs": [
    {
     "name": "stdout",
     "output_type": "stream",
     "text": [
      "[5. 7. 0. ... 0. 0. 0.]\n"
     ]
    }
   ],
   "source": [
    "print(y_test)"
   ]
  }
 ],
 "metadata": {
  "kernelspec": {
   "display_name": "Python 3",
   "language": "python",
   "name": "python3"
  },
  "language_info": {
   "codemirror_mode": {
    "name": "ipython",
    "version": 3
   },
   "file_extension": ".py",
   "mimetype": "text/x-python",
   "name": "python",
   "nbconvert_exporter": "python",
   "pygments_lexer": "ipython3",
   "version": "3.7.3"
  }
 },
 "nbformat": 4,
 "nbformat_minor": 4
}
